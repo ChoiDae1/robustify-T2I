{
 "cells": [
  {
   "cell_type": "code",
   "execution_count": null,
   "metadata": {},
   "outputs": [],
   "source": [
    "from analyze import ApproximateAccuracy \n",
    "\n",
    "\n",
    "perturbation_lv = 0.5\n",
    "test_file_025 = ApproximateAccuracy(data_file_path='/data/jongheon_jeong/daewon/robustify-T2I/analysis/imagenet_ours_certified_sigma_05.txt')\n",
    "print(f'certified accuracy at {perturbation_lv}: {test_file_025.at_radius(perturbation_lv)*100}%')\n",
    "\n",
    "perturbation_lv = 1.0\n",
    "test_file_05 = ApproximateAccuracy(data_file_path='/data/jongheon_jeong/daewon/robustify-T2I/analysis/imagenet_ours_certified_sigma_05.txt')\n",
    "print(f'certified accuracy at {perturbation_lv}: {test_file_05.at_radius(perturbation_lv)*100}%')\n",
    "\n"
   ]
  },
  {
   "cell_type": "code",
   "execution_count": null,
   "metadata": {},
   "outputs": [],
   "source": [
    "from analyze import plot_certified_accuracy, Line\n",
    "import matplotlib\n",
    "matplotlib.use('Agg')\n",
    "import matplotlib\n",
    "\n",
    "test_file = Line(test_file, \"not defense\", \"r\")"
   ]
  }
 ],
 "metadata": {
  "language_info": {
   "name": "python"
  }
 },
 "nbformat": 4,
 "nbformat_minor": 2
}
