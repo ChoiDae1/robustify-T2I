{
 "cells": [
  {
   "cell_type": "code",
   "execution_count": 1,
   "metadata": {},
   "outputs": [
    {
     "name": "stdout",
     "output_type": "stream",
     "text": [
      "certified accuracy at 0.5: 32.4%\n",
      "certified accuracy at 1.0: 20.599999999999998%\n"
     ]
    }
   ],
   "source": [
    "from analyze import ApproximateAccuracy \n",
    "\n",
    "\n",
    "perturbation_lv = 0.5\n",
    "test_file_025 = ApproximateAccuracy(data_file_path='./imagenet_ours_certified_sigma_05.txt')\n",
    "print(f'certified accuracy at {perturbation_lv}: {test_file_025.at_radius(perturbation_lv)*100}%')\n",
    "\n",
    "perturbation_lv = 1.0\n",
    "test_file_05 = ApproximateAccuracy(data_file_path='./imagenet_ours_certified_sigma_05.txt')\n",
    "print(f'certified accuracy at {perturbation_lv}: {test_file_05.at_radius(perturbation_lv)*100}%')\n",
    "\n"
   ]
  },
  {
   "cell_type": "code",
   "execution_count": null,
   "metadata": {},
   "outputs": [],
   "source": [
    "from analyze import plot_certified_accuracy, Line\n",
    "import matplotlib\n",
    "matplotlib.use('Agg')\n",
    "import matplotlib\n",
    "\n",
    "test_file_025 = Line(test_file_025, \"sigma_025\", \"r\")\n",
    "test_file_05 = Line(test_file_05, \"sigma_05\", \"r\")\n",
    "\n",
    "x_bound = 1.7\n",
    "plot_certified_accuracy(f\"./certified_accuracy_sigma\", f\"certified_accuracy\", x_bound,\n",
    "                         [test_file_025, test_file_05])"
   ]
  }
 ],
 "metadata": {
  "kernelspec": {
   "display_name": "certified",
   "language": "python",
   "name": "python3"
  },
  "language_info": {
   "codemirror_mode": {
    "name": "ipython",
    "version": 3
   },
   "file_extension": ".py",
   "mimetype": "text/x-python",
   "name": "python",
   "nbconvert_exporter": "python",
   "pygments_lexer": "ipython3",
   "version": "3.10.12"
  }
 },
 "nbformat": 4,
 "nbformat_minor": 2
}
